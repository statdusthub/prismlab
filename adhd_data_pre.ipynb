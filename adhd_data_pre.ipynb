{
 "cells": [
  {
   "cell_type": "code",
   "execution_count": 1,
   "id": "205f48d7-d6a8-47bd-8259-17a482b44f21",
   "metadata": {},
   "outputs": [],
   "source": [
    "import os\n",
    "import numpy as np\n",
    "import matplotlib.pylab as plt \n",
    "import scipy.io"
   ]
  },
  {
   "cell_type": "markdown",
   "id": "213f02d5",
   "metadata": {},
   "source": [
    "### 데이터 열어보기"
   ]
  },
  {
   "cell_type": "code",
   "execution_count": 2,
   "id": "afb6d4d3-2008-4841-b6d0-a842b7e40619",
   "metadata": {},
   "outputs": [
    {
     "data": {
      "text/plain": [
       "{'__header__': b'MATLAB 5.0 MAT-file, Platform: PCWIN64, Created on: Sun Apr 12 15:32:36 2020',\n",
       " '__version__': '1.0',\n",
       " '__globals__': [],\n",
       " 'v1p': array([[  85, -407,  200, ...,  -90,  473,  121],\n",
       "        [-266,  -55,  -20, ..., -195,  543,   15],\n",
       "        [ -90,  -19,  126, ...,  -19,  613,  261],\n",
       "        ...,\n",
       "        [  85,  -90,   16, ..., -512,   85,   15],\n",
       "        [-160,   85, -131, ..., -477,  332,  191],\n",
       "        [ 226,   85,  126, ..., -336,  297,  156]],\n",
       "       shape=(12258, 19), dtype=int16)}"
      ]
     },
     "execution_count": 2,
     "metadata": {},
     "output_type": "execute_result"
    }
   ],
   "source": [
    "mat_file = scipy.io.loadmat(\"/Users/yoon-yeobin/prismlab1/ADHD/IEEE ADHD Data sets/ADHD_part1/v1p.mat\")\n",
    "mat_file"
   ]
  },
  {
   "cell_type": "code",
   "execution_count": 3,
   "id": "502e69b5",
   "metadata": {},
   "outputs": [
    {
     "name": "stdout",
     "output_type": "stream",
     "text": [
      "dict_keys(['__header__', '__version__', '__globals__', 'v1p'])\n"
     ]
    }
   ],
   "source": [
    "print(mat_file.keys())"
   ]
  },
  {
   "cell_type": "code",
   "execution_count": 5,
   "id": "ebbcdec9",
   "metadata": {},
   "outputs": [
    {
     "name": "stdout",
     "output_type": "stream",
     "text": [
      "원본 shape: (12258, 19)\n"
     ]
    },
    {
     "data": {
      "text/plain": [
       "array([[  85, -407,  200, ...,  -90,  473,  121],\n",
       "       [-266,  -55,  -20, ..., -195,  543,   15],\n",
       "       [ -90,  -19,  126, ...,  -19,  613,  261],\n",
       "       ...,\n",
       "       [  85,  -90,   16, ..., -512,   85,   15],\n",
       "       [-160,   85, -131, ..., -477,  332,  191],\n",
       "       [ 226,   85,  126, ..., -336,  297,  156]],\n",
       "      shape=(12258, 19), dtype=int16)"
      ]
     },
     "execution_count": 5,
     "metadata": {},
     "output_type": "execute_result"
    }
   ],
   "source": [
    "data = mat_file['v1p']\n",
    "print(f\"원본 shape: {data.shape}\")\n",
    "data"
   ]
  },
  {
   "cell_type": "code",
   "execution_count": 8,
   "id": "6d1c9bce",
   "metadata": {},
   "outputs": [
    {
     "name": "stdout",
     "output_type": "stream",
     "text": [
      "변환 후 shape: (19, 12258)\n"
     ]
    },
    {
     "data": {
      "text/plain": [
       "array([[  85, -266,  -90, ...,   85, -160,  226],\n",
       "       [-407,  -55,  -19, ...,  -90,   85,   85],\n",
       "       [ 200,  -20,  126, ...,   16, -131,  126],\n",
       "       ...,\n",
       "       [ -90, -195,  -19, ..., -512, -477, -336],\n",
       "       [ 473,  543,  613, ...,   85,  332,  297],\n",
       "       [ 121,   15,  261, ...,   15,  191,  156]],\n",
       "      shape=(19, 12258), dtype=int16)"
      ]
     },
     "execution_count": 8,
     "metadata": {},
     "output_type": "execute_result"
    }
   ],
   "source": [
    "data_T = data.T\n",
    "print(f\"변환 후 shape: {data_T.shape}\")\n",
    "data_T"
   ]
  },
  {
   "cell_type": "markdown",
   "id": "4f5b6a1e",
   "metadata": {},
   "source": [
    "### ADHD_part1"
   ]
  },
  {
   "cell_type": "code",
   "execution_count": 10,
   "id": "9ba010e5",
   "metadata": {},
   "outputs": [
    {
     "name": "stdout",
     "output_type": "stream",
     "text": [
      "총 30개 파일 발견!\n"
     ]
    }
   ],
   "source": [
    "folder_path = \"/Users/yoon-yeobin/prismlab1/ADHD/IEEE ADHD Data sets/ADHD_part1/\"\n",
    "save_folder = \"/Users/yoon-yeobin/prismlab1/ADHD/IEEE ADHD Data sets/ADHD_part1_npy/\"\n",
    "os.makedirs(save_folder, exist_ok=True)\n",
    "\n",
    "mat_files = [f for f in os.listdir(folder_path) if f.endswith('.mat')]\n",
    "print(f\"총 {len(mat_files)}개 파일 발견!\")"
   ]
  },
  {
   "cell_type": "code",
   "execution_count": 11,
   "id": "8f83ae16",
   "metadata": {},
   "outputs": [
    {
     "name": "stdout",
     "output_type": "stream",
     "text": [
      "v36p.mat → v36p.npy 저장 완료! shape: (19, 17401)\n",
      "v20p.mat → v20p.npy 저장 완료! shape: (19, 35328)\n",
      "v40p.mat → v40p.npy 저장 완료! shape: (19, 20097)\n",
      "v21p.mat → v21p.npy 저장 완료! shape: (19, 16574)\n",
      "v6p.mat → v6p.npy 저장 완료! shape: (19, 17561)\n",
      "v173.mat → v173.npy 저장 완료! shape: (19, 24241)\n",
      "v37p.mat → v37p.npy 저장 완료! shape: (19, 9286)\n",
      "v10p.mat → v10p.npy 저장 완료! shape: (19, 14304)\n",
      "v30p.mat → v30p.npy 저장 완료! shape: (19, 21663)\n",
      "v1p.mat → v1p.npy 저장 완료! shape: (19, 12258)\n",
      "v27p.mat → v27p.npy 저장 완료! shape: (19, 28880)\n",
      "v31p.mat → v31p.npy 저장 완료! shape: (19, 11679)\n",
      "v12p.mat → v12p.npy 저장 완료! shape: (19, 17604)\n",
      "v28p.mat → v28p.npy 저장 완료! shape: (19, 27612)\n",
      "v24p.mat → v24p.npy 저장 완료! shape: (19, 16385)\n",
      "v3p.mat → v3p.npy 저장 완료! shape: (19, 33570)\n",
      "v32p.mat → v32p.npy 저장 완료! shape: (19, 18049)\n",
      "v33p.mat → v33p.npy 저장 완료! shape: (19, 29217)\n",
      "v25p.mat → v25p.npy 저장 완료! shape: (19, 9894)\n",
      "v29p.mat → v29p.npy 저장 완료! shape: (19, 24193)\n",
      "v18p.mat → v18p.npy 저장 완료! shape: (19, 25003)\n",
      "v22p.mat → v22p.npy 저장 완료! shape: (19, 12100)\n",
      "v34p.mat → v34p.npy 저장 완료! shape: (19, 19555)\n",
      "v14p.mat → v14p.npy 저장 완료! shape: (19, 17562)\n",
      "v38p.mat → v38p.npy 저장 완료! shape: (19, 24695)\n",
      "v39p.mat → v39p.npy 저장 완료! shape: (19, 18177)\n",
      "v8p.mat → v8p.npy 저장 완료! shape: (19, 15776)\n",
      "v15p.mat → v15p.npy 저장 완료! shape: (19, 43252)\n",
      "v35p.mat → v35p.npy 저장 완료! shape: (19, 15305)\n",
      "v19p.mat → v19p.npy 저장 완료! shape: (19, 23063)\n",
      "\n",
      "✅ 총 30개 파일 모두 .npy 파일로 저장 완료\n"
     ]
    }
   ],
   "source": [
    "for file_name in mat_files:\n",
    "    file_path = os.path.join(folder_path, file_name)\n",
    "    mat = scipy.io.loadmat(file_path)\n",
    "    # key 이름 (예: 'v1p' ← 파일명에서 확장자 제거)\n",
    "    key_name = os.path.splitext(file_name)[0]\n",
    "    data = mat[key_name]\n",
    "    data_T = data.T\n",
    "\n",
    "    save_path = os.path.join(save_folder, key_name + \".npy\")\n",
    "    \n",
    "    np.save(save_path, data_T)\n",
    "    \n",
    "    print(f\"{file_name} → {key_name}.npy 저장 완료! shape: {data_T.shape}\")\n",
    "\n",
    "print(f\"\\n✅ 총 {len(mat_files)}개 파일 모두 .npy 파일로 저장 완료\")"
   ]
  },
  {
   "cell_type": "markdown",
   "id": "506e12bf",
   "metadata": {},
   "source": [
    "### ADHD_part2"
   ]
  },
  {
   "cell_type": "code",
   "execution_count": 12,
   "id": "b3e81b43",
   "metadata": {},
   "outputs": [
    {
     "name": "stdout",
     "output_type": "stream",
     "text": [
      "총 31개 파일 발견!\n"
     ]
    }
   ],
   "source": [
    "folder_path = \"/Users/yoon-yeobin/prismlab1/ADHD/IEEE ADHD Data sets/ADHD_part2/\"\n",
    "save_folder = \"/Users/yoon-yeobin/prismlab1/ADHD/IEEE ADHD Data sets/ADHD_part2_npy/\"\n",
    "os.makedirs(save_folder, exist_ok=True)\n",
    "\n",
    "mat_files = [f for f in os.listdir(folder_path) if f.endswith('.mat')]\n",
    "print(f\"총 {len(mat_files)}개 파일 발견!\")"
   ]
  },
  {
   "cell_type": "code",
   "execution_count": 13,
   "id": "117e60f2",
   "metadata": {},
   "outputs": [
    {
     "name": "stdout",
     "output_type": "stream",
     "text": [
      "v177.mat → v177.npy 저장 완료! shape: (19, 16697)\n",
      "v215.mat → v215.npy 저장 완료! shape: (19, 21372)\n",
      "v200.mat → v200.npy 저장 완료! shape: (19, 12739)\n",
      "v213.mat → v213.npy 저장 완료! shape: (19, 12353)\n",
      "v206.mat → v206.npy 저장 완료! shape: (19, 20173)\n",
      "v204.mat → v204.npy 저장 완료! shape: (19, 20456)\n",
      "v238.mat → v238.npy 저장 완료! shape: (19, 9852)\n",
      "v198.mat → v198.npy 저장 완료! shape: (19, 19621)\n",
      "v263.mat → v263.npy 저장 완료! shape: (19, 18657)\n",
      "v288.mat → v288.npy 저장 완료! shape: (19, 20115)\n",
      "v274.mat → v274.npy 저장 완료! shape: (19, 17323)\n",
      "v270.mat → v270.npy 저장 완료! shape: (19, 23681)\n",
      "v265.mat → v265.npy 저장 완료! shape: (19, 18389)\n",
      "v254.mat → v254.npy 저장 완료! shape: (19, 10477)\n",
      "v286.mat → v286.npy 저장 완료! shape: (19, 11465)\n",
      "v279.mat → v279.npy 저장 완료! shape: (19, 20134)\n",
      "v250.mat → v250.npy 저장 완료! shape: (19, 13853)\n",
      "v244.mat → v244.npy 저장 완료! shape: (19, 39030)\n",
      "v246.mat → v246.npy 저장 완료! shape: (19, 21307)\n",
      "v284.mat → v284.npy 저장 완료! shape: (19, 15383)\n",
      "v181.mat → v181.npy 저장 완료! shape: (19, 10668)\n",
      "v234.mat → v234.npy 저장 완료! shape: (19, 34191)\n",
      "v209.mat → v209.npy 저장 완료! shape: (19, 30273)\n",
      "v196.mat → v196.npy 저장 완료! shape: (19, 13395)\n",
      "v236.mat → v236.npy 저장 완료! shape: (19, 13502)\n",
      "v183.mat → v183.npy 저장 완료! shape: (19, 18591)\n",
      "v227.mat → v227.npy 저장 완료! shape: (19, 28080)\n",
      "v179.mat → v179.npy 저장 완료! shape: (19, 12673)\n",
      "v190.mat → v190.npy 저장 완료! shape: (19, 15465)\n",
      "v231.mat → v231.npy 저장 완료! shape: (19, 19713)\n",
      "v219.mat → v219.npy 저장 완료! shape: (19, 27157)\n",
      "\n",
      "✅ 총 31개 파일 모두 .npy 파일로 저장 완료\n"
     ]
    }
   ],
   "source": [
    "for file_name in mat_files:\n",
    "    file_path = os.path.join(folder_path, file_name)\n",
    "    mat = scipy.io.loadmat(file_path)\n",
    "    # key 이름 (예: 'v1p' ← 파일명에서 확장자 제거)\n",
    "    key_name = os.path.splitext(file_name)[0]\n",
    "    data = mat[key_name]\n",
    "    data_T = data.T\n",
    "\n",
    "    save_path = os.path.join(save_folder, key_name + \".npy\")\n",
    "    \n",
    "    np.save(save_path, data_T)\n",
    "    \n",
    "    print(f\"{file_name} → {key_name}.npy 저장 완료! shape: {data_T.shape}\")\n",
    "\n",
    "print(f\"\\n✅ 총 {len(mat_files)}개 파일 모두 .npy 파일로 저장 완료\")"
   ]
  },
  {
   "cell_type": "markdown",
   "id": "f296da3b",
   "metadata": {},
   "source": [
    "### Control_part1"
   ]
  },
  {
   "cell_type": "code",
   "execution_count": 14,
   "id": "01437d26",
   "metadata": {},
   "outputs": [
    {
     "name": "stdout",
     "output_type": "stream",
     "text": [
      "총 30개 파일 발견!\n"
     ]
    }
   ],
   "source": [
    "folder_path = \"/Users/yoon-yeobin/prismlab1/ADHD/IEEE ADHD Data sets/Control_part1/\"\n",
    "save_folder = \"/Users/yoon-yeobin/prismlab1/ADHD/IEEE ADHD Data sets/Control_part1_npy/\"\n",
    "os.makedirs(save_folder, exist_ok=True)\n",
    "\n",
    "mat_files = [f for f in os.listdir(folder_path) if f.endswith('.mat')]\n",
    "print(f\"총 {len(mat_files)}개 파일 발견!\")"
   ]
  },
  {
   "cell_type": "code",
   "execution_count": 15,
   "id": "5be2c294",
   "metadata": {},
   "outputs": [
    {
     "name": "stdout",
     "output_type": "stream",
     "text": [
      "v57p.mat → v57p.npy 저장 완료! shape: (19, 14692)\n",
      "v41p.mat → v41p.npy 저장 완료! shape: (19, 12500)\n",
      "v56p.mat → v56p.npy 저장 완료! shape: (19, 14139)\n",
      "v60p.mat → v60p.npy 저장 완료! shape: (19, 12929)\n",
      "v114.mat → v114.npy 저장 완료! shape: (19, 13304)\n",
      "v51p.mat → v51p.npy 저장 완료! shape: (19, 7983)\n",
      "v115.mat → v115.npy 저장 완료! shape: (19, 15651)\n",
      "v47p.mat → v47p.npy 저장 완료! shape: (19, 10864)\n",
      "v116.mat → v116.npy 저장 완료! shape: (19, 19301)\n",
      "v112.mat → v112.npy 저장 완료! shape: (19, 15943)\n",
      "v107.mat → v107.npy 저장 완료! shape: (19, 19794)\n",
      "v113.mat → v113.npy 저장 완료! shape: (19, 15574)\n",
      "v46p.mat → v46p.npy 저장 완료! shape: (19, 9823)\n",
      "v111.mat → v111.npy 저장 완료! shape: (19, 15310)\n",
      "v50p.mat → v50p.npy 저장 완료! shape: (19, 16239)\n",
      "v110.mat → v110.npy 저장 완료! shape: (19, 16549)\n",
      "v45p.mat → v45p.npy 저장 완료! shape: (19, 10871)\n",
      "v109.mat → v109.npy 저장 완료! shape: (19, 16044)\n",
      "v53p.mat → v53p.npy 저장 완료! shape: (19, 19122)\n",
      "v108.mat → v108.npy 저장 완료! shape: (19, 19026)\n",
      "v49p.mat → v49p.npy 저장 완료! shape: (19, 16769)\n",
      "v48p.mat → v48p.npy 저장 완료! shape: (19, 10452)\n",
      "v52p.mat → v52p.npy 저장 완료! shape: (19, 13883)\n",
      "v44p.mat → v44p.npy 저장 완료! shape: (19, 11393)\n",
      "v59p.mat → v59p.npy 저장 완료! shape: (19, 16513)\n",
      "v43p.mat → v43p.npy 저장 완료! shape: (19, 12750)\n",
      "v55p.mat → v55p.npy 저장 완료! shape: (19, 14282)\n",
      "v54p.mat → v54p.npy 저장 완료! shape: (19, 19234)\n",
      "v42p.mat → v42p.npy 저장 완료! shape: (19, 16704)\n",
      "v58p.mat → v58p.npy 저장 완료! shape: (19, 13918)\n",
      "\n",
      "✅ 총 30개 파일 모두 .npy 파일로 저장 완료\n"
     ]
    }
   ],
   "source": [
    "for file_name in mat_files:\n",
    "    file_path = os.path.join(folder_path, file_name)\n",
    "    mat = scipy.io.loadmat(file_path)\n",
    "    # key 이름 (예: 'v1p' ← 파일명에서 확장자 제거)\n",
    "    key_name = os.path.splitext(file_name)[0]\n",
    "    data = mat[key_name]\n",
    "    data_T = data.T\n",
    "\n",
    "    save_path = os.path.join(save_folder, key_name + \".npy\")\n",
    "    \n",
    "    np.save(save_path, data_T)\n",
    "    \n",
    "    print(f\"{file_name} → {key_name}.npy 저장 완료! shape: {data_T.shape}\")\n",
    "\n",
    "print(f\"\\n✅ 총 {len(mat_files)}개 파일 모두 .npy 파일로 저장 완료\")"
   ]
  },
  {
   "cell_type": "markdown",
   "id": "ddfc4f04",
   "metadata": {},
   "source": [
    "### Control_part2"
   ]
  },
  {
   "cell_type": "code",
   "execution_count": 16,
   "id": "153ecd24",
   "metadata": {},
   "outputs": [
    {
     "name": "stdout",
     "output_type": "stream",
     "text": [
      "총 30개 파일 발견!\n"
     ]
    }
   ],
   "source": [
    "folder_path = \"/Users/yoon-yeobin/prismlab1/ADHD/IEEE ADHD Data sets/Control_part2/\"\n",
    "save_folder = \"/Users/yoon-yeobin/prismlab1/ADHD/IEEE ADHD Data sets/Control_part2_npy/\"\n",
    "os.makedirs(save_folder, exist_ok=True)\n",
    "\n",
    "mat_files = [f for f in os.listdir(folder_path) if f.endswith('.mat')]\n",
    "print(f\"총 {len(mat_files)}개 파일 발견!\")"
   ]
  },
  {
   "cell_type": "code",
   "execution_count": 17,
   "id": "ab481943",
   "metadata": {},
   "outputs": [
    {
     "name": "stdout",
     "output_type": "stream",
     "text": [
      "v149.mat → v149.npy 저장 완료! shape: (19, 17098)\n",
      "v302.mat → v302.npy 저장 완료! shape: (19, 17841)\n",
      "v129.mat → v129.npy 저장 완료! shape: (19, 11208)\n",
      "v303.mat → v303.npy 저장 완료! shape: (19, 19222)\n",
      "v117.mat → v117.npy 저장 완료! shape: (19, 25659)\n",
      "v300.mat → v300.npy 저장 완료! shape: (19, 25985)\n",
      "v310.mat → v310.npy 저장 완료! shape: (19, 17793)\n",
      "v304.mat → v304.npy 저장 완료! shape: (19, 13400)\n",
      "v305.mat → v305.npy 저장 완료! shape: (19, 22273)\n",
      "v307.mat → v307.npy 저장 완료! shape: (19, 22807)\n",
      "v298.mat → v298.npy 저장 완료! shape: (19, 17782)\n",
      "v299.mat → v299.npy 저장 완료! shape: (19, 22260)\n",
      "v138.mat → v138.npy 저장 완료! shape: (19, 12488)\n",
      "v306.mat → v306.npy 저장 완료! shape: (19, 18301)\n",
      "v121.mat → v121.npy 저장 완료! shape: (19, 16377)\n",
      "v134.mat → v134.npy 저장 완료! shape: (19, 13359)\n",
      "v120.mat → v120.npy 저장 완료! shape: (19, 12033)\n",
      "v308.mat → v308.npy 저장 완료! shape: (19, 17025)\n",
      "v297.mat → v297.npy 저장 완료! shape: (19, 13697)\n",
      "v123.mat → v123.npy 저장 완료! shape: (19, 14550)\n",
      "v309.mat → v309.npy 저장 완료! shape: (19, 24818)\n",
      "v133.mat → v133.npy 저장 완료! shape: (19, 15073)\n",
      "v127.mat → v127.npy 저장 완료! shape: (19, 14721)\n",
      "v118.mat → v118.npy 저장 완료! shape: (19, 12007)\n",
      "v131.mat → v131.npy 저장 완료! shape: (19, 16686)\n",
      "v125.mat → v125.npy 저장 완료! shape: (19, 15378)\n",
      "v143.mat → v143.npy 저장 완료! shape: (19, 15607)\n",
      "v140.mat → v140.npy 저장 완료! shape: (19, 17187)\n",
      "v151.mat → v151.npy 저장 완료! shape: (19, 20914)\n",
      "v147.mat → v147.npy 저장 완료! shape: (19, 14209)\n",
      "\n",
      "✅ 총 30개 파일 모두 .npy 파일로 저장 완료\n"
     ]
    }
   ],
   "source": [
    "for file_name in mat_files:\n",
    "    file_path = os.path.join(folder_path, file_name)\n",
    "    mat = scipy.io.loadmat(file_path)\n",
    "    # key 이름 (예: 'v1p' ← 파일명에서 확장자 제거)\n",
    "    key_name = os.path.splitext(file_name)[0]\n",
    "    data = mat[key_name]\n",
    "    data_T = data.T\n",
    "\n",
    "    save_path = os.path.join(save_folder, key_name + \".npy\")\n",
    "    \n",
    "    np.save(save_path, data_T)\n",
    "    \n",
    "    print(f\"{file_name} → {key_name}.npy 저장 완료! shape: {data_T.shape}\")\n",
    "\n",
    "print(f\"\\n✅ 총 {len(mat_files)}개 파일 모두 .npy 파일로 저장 완료\")"
   ]
  },
  {
   "cell_type": "markdown",
   "id": "fb642a96",
   "metadata": {},
   "source": [
    "### npy 파일 확인"
   ]
  },
  {
   "cell_type": "code",
   "execution_count": 2,
   "id": "9a005d4a",
   "metadata": {},
   "outputs": [
    {
     "name": "stdout",
     "output_type": "stream",
     "text": [
      "(19, 12258)\n",
      "[[  85 -266  -90 ...   85 -160  226]\n",
      " [-407  -55  -19 ...  -90   85   85]\n",
      " [ 200  -20  126 ...   16 -131  126]\n",
      " ...\n",
      " [ -90 -195  -19 ... -512 -477 -336]\n",
      " [ 473  543  613 ...   85  332  297]\n",
      " [ 121   15  261 ...   15  191  156]]\n"
     ]
    }
   ],
   "source": [
    "# npy 파일 경로 지정\n",
    "file_path = \"/Users/yoon-yeobin/prismlab1/ADHD/IEEE ADHD Data sets/ADHD_part1_npy/v1p.npy\"\n",
    "\n",
    "# npy 파일 불러오기\n",
    "data = np.load(file_path)\n",
    "\n",
    "# 데이터 확인\n",
    "print(data.shape)  # (19, 시간)\n",
    "print(data)"
   ]
  }
 ],
 "metadata": {
  "kernelspec": {
   "display_name": "prismlab",
   "language": "python",
   "name": "python3"
  },
  "language_info": {
   "codemirror_mode": {
    "name": "ipython",
    "version": 3
   },
   "file_extension": ".py",
   "mimetype": "text/x-python",
   "name": "python",
   "nbconvert_exporter": "python",
   "pygments_lexer": "ipython3",
   "version": "3.11.13"
  }
 },
 "nbformat": 4,
 "nbformat_minor": 5
}
